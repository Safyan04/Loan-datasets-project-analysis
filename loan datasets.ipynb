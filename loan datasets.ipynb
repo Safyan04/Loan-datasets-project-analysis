{
 "cells": [
  {
   "cell_type": "markdown",
   "id": "ee58d142",
   "metadata": {},
   "source": [
    "# Loan Prices\n",
    "\n",
    "Welcome to the Loan Data Analysis project. In this project, we aim to explore and analyze loan data to gain insights about loan approvals, defaults, borrower characteristics, and more.\n",
    "\n",
    "## Step 1: Import Libraries\n",
    "First, we will import the required Python libraries for data analysis and visualization.\n"
   ]
  },
  {
   "cell_type": "code",
   "execution_count": 1,
   "id": "0a0363cc",
   "metadata": {},
   "outputs": [],
   "source": [
    "import pandas as pd\n",
    "import numpy as np\n",
    "import matplotlib.pyplot as plt\n",
    "import seaborn as sns\n",
    "from sklearn.preprocessing import StandardScaler"
   ]
  },
  {
   "cell_type": "markdown",
   "id": "76973144",
   "metadata": {},
   "source": [
    "## Step 2: Load the Dataset\n",
    "\n",
    "Now we'll load the loan dataset using Pandas. Make sure your dataset file (e.g., `loan.csv`) is in the same directory as your notebook."
   ]
  },
  {
   "cell_type": "code",
   "execution_count": 2,
   "id": "82c10693",
   "metadata": {},
   "outputs": [
    {
     "data": {
      "text/html": [
       "<div>\n",
       "<style scoped>\n",
       "    .dataframe tbody tr th:only-of-type {\n",
       "        vertical-align: middle;\n",
       "    }\n",
       "\n",
       "    .dataframe tbody tr th {\n",
       "        vertical-align: top;\n",
       "    }\n",
       "\n",
       "    .dataframe thead th {\n",
       "        text-align: right;\n",
       "    }\n",
       "</style>\n",
       "<table border=\"1\" class=\"dataframe\">\n",
       "  <thead>\n",
       "    <tr style=\"text-align: right;\">\n",
       "      <th></th>\n",
       "      <th>Loan_ID</th>\n",
       "      <th>Gender</th>\n",
       "      <th>Married</th>\n",
       "      <th>Dependents</th>\n",
       "      <th>Education</th>\n",
       "      <th>Self_Employed</th>\n",
       "      <th>ApplicantIncome</th>\n",
       "      <th>CoapplicantIncome</th>\n",
       "      <th>LoanAmount</th>\n",
       "      <th>Loan_Amount_Term</th>\n",
       "      <th>Credit_History</th>\n",
       "      <th>Property_Area</th>\n",
       "      <th>Loan_Status</th>\n",
       "    </tr>\n",
       "  </thead>\n",
       "  <tbody>\n",
       "    <tr>\n",
       "      <th>0</th>\n",
       "      <td>LP001002</td>\n",
       "      <td>Male</td>\n",
       "      <td>No</td>\n",
       "      <td>0</td>\n",
       "      <td>Graduate</td>\n",
       "      <td>No</td>\n",
       "      <td>5849</td>\n",
       "      <td>0.0</td>\n",
       "      <td>NaN</td>\n",
       "      <td>360.0</td>\n",
       "      <td>1.0</td>\n",
       "      <td>Urban</td>\n",
       "      <td>Y</td>\n",
       "    </tr>\n",
       "    <tr>\n",
       "      <th>1</th>\n",
       "      <td>LP001003</td>\n",
       "      <td>Male</td>\n",
       "      <td>Yes</td>\n",
       "      <td>1</td>\n",
       "      <td>Graduate</td>\n",
       "      <td>No</td>\n",
       "      <td>4583</td>\n",
       "      <td>1508.0</td>\n",
       "      <td>128.0</td>\n",
       "      <td>360.0</td>\n",
       "      <td>1.0</td>\n",
       "      <td>Rural</td>\n",
       "      <td>N</td>\n",
       "    </tr>\n",
       "    <tr>\n",
       "      <th>2</th>\n",
       "      <td>LP001005</td>\n",
       "      <td>Male</td>\n",
       "      <td>Yes</td>\n",
       "      <td>0</td>\n",
       "      <td>Graduate</td>\n",
       "      <td>Yes</td>\n",
       "      <td>3000</td>\n",
       "      <td>0.0</td>\n",
       "      <td>66.0</td>\n",
       "      <td>360.0</td>\n",
       "      <td>1.0</td>\n",
       "      <td>Urban</td>\n",
       "      <td>Y</td>\n",
       "    </tr>\n",
       "    <tr>\n",
       "      <th>3</th>\n",
       "      <td>LP001006</td>\n",
       "      <td>Male</td>\n",
       "      <td>Yes</td>\n",
       "      <td>0</td>\n",
       "      <td>Not Graduate</td>\n",
       "      <td>No</td>\n",
       "      <td>2583</td>\n",
       "      <td>2358.0</td>\n",
       "      <td>120.0</td>\n",
       "      <td>360.0</td>\n",
       "      <td>1.0</td>\n",
       "      <td>Urban</td>\n",
       "      <td>Y</td>\n",
       "    </tr>\n",
       "    <tr>\n",
       "      <th>4</th>\n",
       "      <td>LP001008</td>\n",
       "      <td>Male</td>\n",
       "      <td>No</td>\n",
       "      <td>0</td>\n",
       "      <td>Graduate</td>\n",
       "      <td>No</td>\n",
       "      <td>6000</td>\n",
       "      <td>0.0</td>\n",
       "      <td>141.0</td>\n",
       "      <td>360.0</td>\n",
       "      <td>1.0</td>\n",
       "      <td>Urban</td>\n",
       "      <td>Y</td>\n",
       "    </tr>\n",
       "  </tbody>\n",
       "</table>\n",
       "</div>"
      ],
      "text/plain": [
       "    Loan_ID Gender Married Dependents     Education Self_Employed  \\\n",
       "0  LP001002   Male      No          0      Graduate            No   \n",
       "1  LP001003   Male     Yes          1      Graduate            No   \n",
       "2  LP001005   Male     Yes          0      Graduate           Yes   \n",
       "3  LP001006   Male     Yes          0  Not Graduate            No   \n",
       "4  LP001008   Male      No          0      Graduate            No   \n",
       "\n",
       "   ApplicantIncome  CoapplicantIncome  LoanAmount  Loan_Amount_Term  \\\n",
       "0             5849                0.0         NaN             360.0   \n",
       "1             4583             1508.0       128.0             360.0   \n",
       "2             3000                0.0        66.0             360.0   \n",
       "3             2583             2358.0       120.0             360.0   \n",
       "4             6000                0.0       141.0             360.0   \n",
       "\n",
       "   Credit_History Property_Area Loan_Status  \n",
       "0             1.0         Urban           Y  \n",
       "1             1.0         Rural           N  \n",
       "2             1.0         Urban           Y  \n",
       "3             1.0         Urban           Y  \n",
       "4             1.0         Urban           Y  "
      ]
     },
     "execution_count": 2,
     "metadata": {},
     "output_type": "execute_result"
    }
   ],
   "source": [
    "df = pd.read_csv('loan.csv')\n",
    "df.head()"
   ]
  },
  {
   "cell_type": "markdown",
   "id": "c94f1908",
   "metadata": {},
   "source": [
    "## Step 3: Exploratory Data Analysis (EDA)\n",
    "\n",
    "In this step, we will explore the dataset to understand its structure, data types, missing values, and get some initial insights.\n"
   ]
  },
  {
   "cell_type": "markdown",
   "id": "fb3c3055",
   "metadata": {},
   "source": [
    "#### Shape of Data"
   ]
  },
  {
   "cell_type": "code",
   "execution_count": 3,
   "id": "db2e7ac4",
   "metadata": {},
   "outputs": [
    {
     "data": {
      "text/plain": [
       "(614, 13)"
      ]
     },
     "execution_count": 3,
     "metadata": {},
     "output_type": "execute_result"
    }
   ],
   "source": [
    "df.shape"
   ]
  },
  {
   "cell_type": "markdown",
   "id": "925aaf92",
   "metadata": {},
   "source": [
    "#### Data types and not null"
   ]
  },
  {
   "cell_type": "code",
   "execution_count": 4,
   "id": "fa781975",
   "metadata": {},
   "outputs": [
    {
     "name": "stdout",
     "output_type": "stream",
     "text": [
      "<class 'pandas.core.frame.DataFrame'>\n",
      "RangeIndex: 614 entries, 0 to 613\n",
      "Data columns (total 13 columns):\n",
      " #   Column             Non-Null Count  Dtype  \n",
      "---  ------             --------------  -----  \n",
      " 0   Loan_ID            614 non-null    object \n",
      " 1   Gender             601 non-null    object \n",
      " 2   Married            611 non-null    object \n",
      " 3   Dependents         599 non-null    object \n",
      " 4   Education          614 non-null    object \n",
      " 5   Self_Employed      582 non-null    object \n",
      " 6   ApplicantIncome    614 non-null    int64  \n",
      " 7   CoapplicantIncome  614 non-null    float64\n",
      " 8   LoanAmount         592 non-null    float64\n",
      " 9   Loan_Amount_Term   600 non-null    float64\n",
      " 10  Credit_History     564 non-null    float64\n",
      " 11  Property_Area      614 non-null    object \n",
      " 12  Loan_Status        614 non-null    object \n",
      "dtypes: float64(4), int64(1), object(8)\n",
      "memory usage: 62.5+ KB\n"
     ]
    }
   ],
   "source": [
    "df.info()"
   ]
  },
  {
   "cell_type": "markdown",
   "id": "fea09315",
   "metadata": {},
   "source": [
    "#### Summary Statistics"
   ]
  },
  {
   "cell_type": "code",
   "execution_count": 5,
   "id": "0ed46c3b",
   "metadata": {},
   "outputs": [
    {
     "data": {
      "text/html": [
       "<div>\n",
       "<style scoped>\n",
       "    .dataframe tbody tr th:only-of-type {\n",
       "        vertical-align: middle;\n",
       "    }\n",
       "\n",
       "    .dataframe tbody tr th {\n",
       "        vertical-align: top;\n",
       "    }\n",
       "\n",
       "    .dataframe thead th {\n",
       "        text-align: right;\n",
       "    }\n",
       "</style>\n",
       "<table border=\"1\" class=\"dataframe\">\n",
       "  <thead>\n",
       "    <tr style=\"text-align: right;\">\n",
       "      <th></th>\n",
       "      <th>ApplicantIncome</th>\n",
       "      <th>CoapplicantIncome</th>\n",
       "      <th>LoanAmount</th>\n",
       "      <th>Loan_Amount_Term</th>\n",
       "      <th>Credit_History</th>\n",
       "    </tr>\n",
       "  </thead>\n",
       "  <tbody>\n",
       "    <tr>\n",
       "      <th>count</th>\n",
       "      <td>614.000000</td>\n",
       "      <td>614.000000</td>\n",
       "      <td>592.000000</td>\n",
       "      <td>600.00000</td>\n",
       "      <td>564.000000</td>\n",
       "    </tr>\n",
       "    <tr>\n",
       "      <th>mean</th>\n",
       "      <td>5403.459283</td>\n",
       "      <td>1621.245798</td>\n",
       "      <td>146.412162</td>\n",
       "      <td>342.00000</td>\n",
       "      <td>0.842199</td>\n",
       "    </tr>\n",
       "    <tr>\n",
       "      <th>std</th>\n",
       "      <td>6109.041673</td>\n",
       "      <td>2926.248369</td>\n",
       "      <td>85.587325</td>\n",
       "      <td>65.12041</td>\n",
       "      <td>0.364878</td>\n",
       "    </tr>\n",
       "    <tr>\n",
       "      <th>min</th>\n",
       "      <td>150.000000</td>\n",
       "      <td>0.000000</td>\n",
       "      <td>9.000000</td>\n",
       "      <td>12.00000</td>\n",
       "      <td>0.000000</td>\n",
       "    </tr>\n",
       "    <tr>\n",
       "      <th>25%</th>\n",
       "      <td>2877.500000</td>\n",
       "      <td>0.000000</td>\n",
       "      <td>100.000000</td>\n",
       "      <td>360.00000</td>\n",
       "      <td>1.000000</td>\n",
       "    </tr>\n",
       "    <tr>\n",
       "      <th>50%</th>\n",
       "      <td>3812.500000</td>\n",
       "      <td>1188.500000</td>\n",
       "      <td>128.000000</td>\n",
       "      <td>360.00000</td>\n",
       "      <td>1.000000</td>\n",
       "    </tr>\n",
       "    <tr>\n",
       "      <th>75%</th>\n",
       "      <td>5795.000000</td>\n",
       "      <td>2297.250000</td>\n",
       "      <td>168.000000</td>\n",
       "      <td>360.00000</td>\n",
       "      <td>1.000000</td>\n",
       "    </tr>\n",
       "    <tr>\n",
       "      <th>max</th>\n",
       "      <td>81000.000000</td>\n",
       "      <td>41667.000000</td>\n",
       "      <td>700.000000</td>\n",
       "      <td>480.00000</td>\n",
       "      <td>1.000000</td>\n",
       "    </tr>\n",
       "  </tbody>\n",
       "</table>\n",
       "</div>"
      ],
      "text/plain": [
       "       ApplicantIncome  CoapplicantIncome  LoanAmount  Loan_Amount_Term  \\\n",
       "count       614.000000         614.000000  592.000000         600.00000   \n",
       "mean       5403.459283        1621.245798  146.412162         342.00000   \n",
       "std        6109.041673        2926.248369   85.587325          65.12041   \n",
       "min         150.000000           0.000000    9.000000          12.00000   \n",
       "25%        2877.500000           0.000000  100.000000         360.00000   \n",
       "50%        3812.500000        1188.500000  128.000000         360.00000   \n",
       "75%        5795.000000        2297.250000  168.000000         360.00000   \n",
       "max       81000.000000       41667.000000  700.000000         480.00000   \n",
       "\n",
       "       Credit_History  \n",
       "count      564.000000  \n",
       "mean         0.842199  \n",
       "std          0.364878  \n",
       "min          0.000000  \n",
       "25%          1.000000  \n",
       "50%          1.000000  \n",
       "75%          1.000000  \n",
       "max          1.000000  "
      ]
     },
     "execution_count": 5,
     "metadata": {},
     "output_type": "execute_result"
    }
   ],
   "source": [
    "df.describe()"
   ]
  },
  {
   "cell_type": "markdown",
   "id": "7d6149c1",
   "metadata": {},
   "source": [
    "#### Checking unique values in catagorical column"
   ]
  },
  {
   "cell_type": "code",
   "execution_count": 6,
   "id": "77912bc7",
   "metadata": {},
   "outputs": [
    {
     "data": {
      "text/plain": [
       "Loan_ID          614\n",
       "Gender             2\n",
       "Married            2\n",
       "Dependents         4\n",
       "Education          2\n",
       "Self_Employed      2\n",
       "Property_Area      3\n",
       "Loan_Status        2\n",
       "dtype: int64"
      ]
     },
     "execution_count": 6,
     "metadata": {},
     "output_type": "execute_result"
    }
   ],
   "source": [
    "df.select_dtypes(include='object').nunique()"
   ]
  },
  {
   "cell_type": "markdown",
   "id": "7be4cc84",
   "metadata": {},
   "source": [
    "## Step 4: Data Cleaning\n",
    "\n",
    "In this step, we'll handle missing values and ensure that the data types are appropriate for analysis."
   ]
  },
  {
   "cell_type": "markdown",
   "id": "9b8256ac",
   "metadata": {},
   "source": [
    "#### Checking missing values"
   ]
  },
  {
   "cell_type": "code",
   "execution_count": 7,
   "id": "051daa40",
   "metadata": {},
   "outputs": [
    {
     "data": {
      "text/plain": [
       "Loan_ID               0\n",
       "Gender               13\n",
       "Married               3\n",
       "Dependents           15\n",
       "Education             0\n",
       "Self_Employed        32\n",
       "ApplicantIncome       0\n",
       "CoapplicantIncome     0\n",
       "LoanAmount           22\n",
       "Loan_Amount_Term     14\n",
       "Credit_History       50\n",
       "Property_Area         0\n",
       "Loan_Status           0\n",
       "dtype: int64"
      ]
     },
     "execution_count": 7,
     "metadata": {},
     "output_type": "execute_result"
    }
   ],
   "source": [
    "df.isnull().sum()"
   ]
  },
  {
   "cell_type": "markdown",
   "id": "27795ce2",
   "metadata": {},
   "source": [
    "#### Fill the missing values"
   ]
  },
  {
   "cell_type": "code",
   "execution_count": 8,
   "id": "e265c812",
   "metadata": {},
   "outputs": [],
   "source": [
    "df['Gender'] = df['Gender'].fillna(df['Gender'].mode()[0])\n",
    "df['Married'] = df['Married'].fillna(df['Married'].mode()[0])\n",
    "df['Dependents'] = df['Dependents'].fillna(df['Dependents'].mode()[0])\n",
    "df['Self_Employed'] = df['Self_Employed'].fillna(df['Self_Employed'].mode()[0])\n",
    "df['LoanAmount'] = df['LoanAmount'].fillna(df['LoanAmount'].median())\n",
    "df['Loan_Amount_Term'] = df['Loan_Amount_Term'].fillna(df['Loan_Amount_Term'].mode()[0])\n",
    "df['Credit_History'] = df['Credit_History'].fillna(df['Credit_History'].mode()[0])"
   ]
  },
  {
   "cell_type": "markdown",
   "id": "cccf8334",
   "metadata": {},
   "source": [
    "#### Verify there is no missing values"
   ]
  },
  {
   "cell_type": "code",
   "execution_count": 9,
   "id": "9ab0657d",
   "metadata": {},
   "outputs": [
    {
     "data": {
      "text/plain": [
       "Loan_ID              0\n",
       "Gender               0\n",
       "Married              0\n",
       "Dependents           0\n",
       "Education            0\n",
       "Self_Employed        0\n",
       "ApplicantIncome      0\n",
       "CoapplicantIncome    0\n",
       "LoanAmount           0\n",
       "Loan_Amount_Term     0\n",
       "Credit_History       0\n",
       "Property_Area        0\n",
       "Loan_Status          0\n",
       "dtype: int64"
      ]
     },
     "execution_count": 9,
     "metadata": {},
     "output_type": "execute_result"
    }
   ],
   "source": [
    "df.isnull().sum()"
   ]
  },
  {
   "cell_type": "markdown",
   "id": "ff2b7ed8",
   "metadata": {},
   "source": [
    "#### Detecting the Outliers\n",
    "\n",
    "Outliers are values that are unusually high or low compared to the rest of the data. We'll visualize the numerical columns to detect outliers and then decide how to handle them.\n"
   ]
  },
  {
   "cell_type": "code",
   "execution_count": 10,
   "id": "903439ca",
   "metadata": {},
   "outputs": [
    {
     "data": {
      "image/png": "[encoded data removed]",
      "text/plain": [
       "<Figure size 1300x400 with 3 Axes>"
      ]
     },
     "metadata": {},
     "output_type": "display_data"
    }
   ],
   "source": [
    "plt.figure(figsize=(13,4))\n",
    "\n",
    "plt.subplot(1,3,1)\n",
    "sns.boxplot(df['ApplicantIncome'])\n",
    "plt.title('Boxplot of Applicant Income')\n",
    "\n",
    "plt.subplot(1,3,2)\n",
    "sns.boxplot(df['CoapplicantIncome'])\n",
    "plt.title('Boxplot of CoapplicantInome')\n",
    "\n",
    "plt.subplot(1,3,3)\n",
    "sns.boxplot(df['LoanAmount'])\n",
    "plt.title('Boxplot of Loan Amount')\n",
    "\n",
    "plt.tight_layout()\n",
    "plt.show()"
   ]
  },
  {
   "cell_type": "markdown",
   "id": "acb6b964",
   "metadata": {},
   "source": [
    "This will show you if there are extreme values (outliers) in those columns."
   ]
  },
  {
   "cell_type": "markdown",
   "id": "72035bc7",
   "metadata": {},
   "source": [
    "##### Handle the Outliers"
   ]
  },
  {
   "cell_type": "code",
   "execution_count": 11,
   "id": "c7f25bdb",
   "metadata": {},
   "outputs": [],
   "source": [
    "def out(df, column):\n",
    "    Q1 = df[column].quantile(0.25)\n",
    "    Q3 = df[column].quantile(0.75)\n",
    "    IQR = Q3 - Q1\n",
    "    lower = Q1 - 1.5 * IQR\n",
    "    upper = Q3 + 1.5 * IQR\n",
    "    df = df[(df[column] >= lower) & (df[column] <= upper)]\n",
    "    return df\n",
    "\n",
    "df = out(df, 'ApplicantIncome')\n",
    "df = out(df, 'CoapplicantIncome')\n",
    "df = out(df, 'LoanAmount')\n"
   ]
  },
  {
   "cell_type": "code",
   "execution_count": 12,
   "id": "17367e20",
   "metadata": {},
   "outputs": [
    {
     "data": {
      "image/png": "[encoded data removed]",
      "text/plain": [
       "<Figure size 1300x400 with 3 Axes>"
      ]
     },
     "metadata": {},
     "output_type": "display_data"
    }
   ],
   "source": [
    "plt.figure(figsize=(13,4))\n",
    "\n",
    "plt.subplot(1,3,1)\n",
    "sns.boxplot(df['ApplicantIncome'])\n",
    "plt.title('Boxplot of Applicant Income')\n",
    "\n",
    "plt.subplot(1,3,2)\n",
    "sns.boxplot(df['CoapplicantIncome'])\n",
    "plt.title('Boxplot of CoapplicantInome')\n",
    "\n",
    "plt.subplot(1,3,3)\n",
    "sns.boxplot(df['LoanAmount'])\n",
    "plt.title('Boxplot of Loan Amount')\n",
    "\n",
    "plt.tight_layout()\n",
    "plt.show()"
   ]
  },
  {
   "cell_type": "markdown",
   "id": "880d545b",
   "metadata": {},
   "source": [
    "## Step:5 Data Visualization"
   ]
  },
  {
   "cell_type": "code",
   "execution_count": 13,
   "id": "d6300f9a",
   "metadata": {},
   "outputs": [
    {
     "data": {
      "image/png": "[encoded data removed]",
      "text/plain": [
       "<Figure size 640x480 with 1 Axes>"
      ]
     },
     "metadata": {},
     "output_type": "display_data"
    }
   ],
   "source": [
    "sns.countplot(x='Loan_Status', data=df)\n",
    "plt.title('Loan Approval Status')\n",
    "plt.show()"
   ]
  },
  {
   "cell_type": "markdown",
   "id": "cbb83020",
   "metadata": {},
   "source": [
    "#### Categorical Variables vs Loan Status\n",
    "\n",
    "This visualization compares various categorical features with the loan approval status.\n",
    "\n",
    "- **Gender**: Shows whether male or female applicants have higher approval rates.\n",
    "- **Married**: Checks if married applicants are more likely to be approved.\n",
    "- **Education**: Determines whether education level affects approval.\n",
    "- **Self_Employed**: Analyzes the approval trend for self-employed individuals.\n"
   ]
  },
  {
   "cell_type": "code",
   "execution_count": 14,
   "id": "1fa35373",
   "metadata": {},
   "outputs": [
    {
     "data": {
      "image/png": "[encoded data removed]",
      "text/plain": [
       "<Figure size 1000x800 with 4 Axes>"
      ]
     },
     "metadata": {},
     "output_type": "display_data"
    }
   ],
   "source": [
    "plt.figure(figsize=(10,8))\n",
    "\n",
    "plt.subplot(2,2,1)\n",
    "sns.countplot(x='Gender', hue='Loan_Status', data=df)\n",
    "plt.title('Loan Status by Gender')\n",
    "\n",
    "plt.subplot(2,2,2)\n",
    "sns.countplot(x='Married', hue='Loan_Status', data=df)\n",
    "plt.title('Loan Status by Marriege')\n",
    "\n",
    "plt.subplot(2,2,3)\n",
    "sns.countplot(x='Education', hue='Loan_Status', data=df)\n",
    "plt.title('Loan Status by Education')\n",
    "\n",
    "plt.subplot(2,2,4)\n",
    "sns.countplot(x='Self_Employed', hue='Loan_Status', data=df)\n",
    "plt.title('Loan Status Self_Employees')\n",
    "plt.tight_layout()\n",
    "plt.show()"
   ]
  },
  {
   "cell_type": "markdown",
   "id": "148965a2",
   "metadata": {},
   "source": [
    "## Step 6: Feature Engineering\n",
    "\n",
    "In this step, we will create new features, transform existing features, and prepare the data for the model.\n"
   ]
  },
  {
   "cell_type": "markdown",
   "id": "6df22a71",
   "metadata": {},
   "source": [
    "#### Convert Dependents into numerical"
   ]
  },
  {
   "cell_type": "code",
   "execution_count": 15,
   "id": "52bd4b2a",
   "metadata": {},
   "outputs": [],
   "source": [
    "df['Dependents'] = df['Dependents'].replace('3+', 3).astype(int)"
   ]
  },
  {
   "cell_type": "markdown",
   "id": "e91662b4",
   "metadata": {},
   "source": [
    "#### Create Total Income Feature"
   ]
  },
  {
   "cell_type": "code",
   "execution_count": 16,
   "id": "b5678e80",
   "metadata": {},
   "outputs": [],
   "source": [
    "df['TotalIncome'] = df['ApplicantIncome'] + df['CoapplicantIncome']"
   ]
  },
  {
   "cell_type": "markdown",
   "id": "a34c9163",
   "metadata": {},
   "source": [
    "#### Create Loan Amount log transformation"
   ]
  },
  {
   "cell_type": "code",
   "execution_count": 17,
   "id": "70d2686c",
   "metadata": {},
   "outputs": [],
   "source": [
    "df['LoanAmount_log'] = np.log(df['LoanAmount'])"
   ]
  },
  {
   "cell_type": "markdown",
   "id": "f0a7b4e7",
   "metadata": {},
   "source": [
    "#### Create Total Income Log Transformation"
   ]
  },
  {
   "cell_type": "code",
   "execution_count": 18,
   "id": "4a099d06",
   "metadata": {},
   "outputs": [],
   "source": [
    "df['TotalIncome_log'] = np.log(df['TotalIncome'])"
   ]
  },
  {
   "cell_type": "markdown",
   "id": "edfd01e4",
   "metadata": {},
   "source": [
    "### Feature Scalling"
   ]
  },
  {
   "cell_type": "code",
   "execution_count": 19,
   "id": "dffd8ec9",
   "metadata": {},
   "outputs": [],
   "source": [
    "colm = ['ApplicantIncome','CoapplicantIncome','LoanAmount','LoanAmount_log','TotalIncome','TotalIncome_log']\n",
    "scaler = StandardScaler()\n",
    "\n",
    "df[colm] = scaler.fit_transform(df[colm])"
   ]
  },
  {
   "cell_type": "code",
   "execution_count": 20,
   "id": "37405338",
   "metadata": {},
   "outputs": [
    {
     "data": {
      "text/html": [
       "<div>\n",
       "<style scoped>\n",
       "    .dataframe tbody tr th:only-of-type {\n",
       "        vertical-align: middle;\n",
       "    }\n",
       "\n",
       "    .dataframe tbody tr th {\n",
       "        vertical-align: top;\n",
       "    }\n",
       "\n",
       "    .dataframe thead th {\n",
       "        text-align: right;\n",
       "    }\n",
       "</style>\n",
       "<table border=\"1\" class=\"dataframe\">\n",
       "  <thead>\n",
       "    <tr style=\"text-align: right;\">\n",
       "      <th></th>\n",
       "      <th>ApplicantIncome</th>\n",
       "      <th>CoapplicantIncome</th>\n",
       "      <th>LoanAmount</th>\n",
       "      <th>LoanAmount_log</th>\n",
       "      <th>TotalIncome</th>\n",
       "      <th>TotalIncome_log</th>\n",
       "    </tr>\n",
       "  </thead>\n",
       "  <tbody>\n",
       "    <tr>\n",
       "      <th>0</th>\n",
       "      <td>1.033643</td>\n",
       "      <td>-0.943785</td>\n",
       "      <td>0.109491</td>\n",
       "      <td>0.257050</td>\n",
       "      <td>0.275027</td>\n",
       "      <td>0.443781</td>\n",
       "    </tr>\n",
       "    <tr>\n",
       "      <th>1</th>\n",
       "      <td>0.327548</td>\n",
       "      <td>0.136399</td>\n",
       "      <td>0.109491</td>\n",
       "      <td>0.257050</td>\n",
       "      <td>0.399269</td>\n",
       "      <td>0.555681</td>\n",
       "    </tr>\n",
       "    <tr>\n",
       "      <th>2</th>\n",
       "      <td>-0.555349</td>\n",
       "      <td>-0.943785</td>\n",
       "      <td>-1.451763</td>\n",
       "      <td>-1.536392</td>\n",
       "      <td>-1.187637</td>\n",
       "      <td>-1.399043</td>\n",
       "    </tr>\n",
       "    <tr>\n",
       "      <th>3</th>\n",
       "      <td>-0.787925</td>\n",
       "      <td>0.745256</td>\n",
       "      <td>-0.091961</td>\n",
       "      <td>0.082306</td>\n",
       "      <td>-0.191136</td>\n",
       "      <td>-0.021861</td>\n",
       "    </tr>\n",
       "    <tr>\n",
       "      <th>4</th>\n",
       "      <td>1.117861</td>\n",
       "      <td>-0.943785</td>\n",
       "      <td>0.436851</td>\n",
       "      <td>0.518955</td>\n",
       "      <td>0.352550</td>\n",
       "      <td>0.514133</td>\n",
       "    </tr>\n",
       "  </tbody>\n",
       "</table>\n",
       "</div>"
      ],
      "text/plain": [
       "   ApplicantIncome  CoapplicantIncome  LoanAmount  LoanAmount_log  \\\n",
       "0         1.033643          -0.943785    0.109491        0.257050   \n",
       "1         0.327548           0.136399    0.109491        0.257050   \n",
       "2        -0.555349          -0.943785   -1.451763       -1.536392   \n",
       "3        -0.787925           0.745256   -0.091961        0.082306   \n",
       "4         1.117861          -0.943785    0.436851        0.518955   \n",
       "\n",
       "   TotalIncome  TotalIncome_log  \n",
       "0     0.275027         0.443781  \n",
       "1     0.399269         0.555681  \n",
       "2    -1.187637        -1.399043  \n",
       "3    -0.191136        -0.021861  \n",
       "4     0.352550         0.514133  "
      ]
     },
     "execution_count": 20,
     "metadata": {},
     "output_type": "execute_result"
    }
   ],
   "source": [
    "df[colm].head()"
   ]
  },
  {
   "cell_type": "markdown",
   "id": "551e2388",
   "metadata": {},
   "source": [
    "## Step 7: Insights\n",
    "\n",
    "### Key Insights\n",
    "\n",
    "- Applicants with a **credit history** of 1 are more likely to get loans.\n",
    "- **Married and graduate** applicants have higher approval rates.\n",
    "- **Self-employed** applicants have slightly lower approval chances.\n",
    "- **Total Income** is a better indicator than individual income columns.\n",
    "- Log transformation helped normalize skewed income and loan amount distributions."
   ]
  },
  {
   "cell_type": "markdown",
   "id": "8dfd07a7",
   "metadata": {},
   "source": [
    "### Final Insights\n",
    "\n",
    "Based on the analysis performed, we found:\n",
    "\n",
    "- Applicants with a good credit history have significantly higher chances of loan approval.\n",
    "- Total income (sum of applicant and co-applicant income) gives better insights than individual incomes.\n",
    "- Married, educated, and male applicants tend to have higher loan approval rates.\n",
    "- Log transformation helped reduce skewness in `LoanAmount` and `Total_Income`.\n"
   ]
  },
  {
   "cell_type": "code",
   "execution_count": null,
   "id": "88bc0346",
   "metadata": {},
   "outputs": [],
   "source": []
  }
 ],
 "metadata": {
  "kernelspec": {
   "display_name": "Python 3",
   "language": "python",
   "name": "python3"
  },
  "language_info": {
   "codemirror_mode": {
    "name": "ipython",
    "version": 3
   },
   "file_extension": ".py",
   "mimetype": "text/x-python",
   "name": "python",
   "nbconvert_exporter": "python",
   "pygments_lexer": "ipython3",
   "version": "3.12.7"
  }
 },
 "nbformat": 4,
 "nbformat_minor": 5
}
